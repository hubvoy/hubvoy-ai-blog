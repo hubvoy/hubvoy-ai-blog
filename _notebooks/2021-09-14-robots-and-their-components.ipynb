{
 "cells": [
  {
   "cell_type": "markdown",
   "metadata": {},
   "source": [
    "# Introduction"
   ]
  },
  {
   "cell_type": "markdown",
   "metadata": {},
   "source": [
    "This post will give you an introduction into the field of robotics. In the first part of the post, I'm going to explain what robots are, what is the field of robotics and some historical background. In the second part of, I'm going to talk about different components of robots, what they allow robots to do and their individual jobs. "
   ]
  },
  {
   "cell_type": "markdown",
   "metadata": {},
   "source": [
    "# What are robots?"
   ]
  },
  {
   "cell_type": "markdown",
   "metadata": {},
   "source": [
    "The definition of a robot is as follows: an autonomous system that exists in the physical world, can sense its environment and take action in that environment to achieve some goal(s)."
   ]
  },
  {
   "cell_type": "markdown",
   "metadata": {},
   "source": [
    "# What is robotics?"
   ]
  },
  {
   "cell_type": "markdown",
   "metadata": {},
   "source": [
    "Robotics is, put simply, the field of study that concerns itself with robots. "
   ]
  },
  {
   "cell_type": "markdown",
   "metadata": {},
   "source": [
    "# A brief history of robotics"
   ]
  },
  {
   "cell_type": "markdown",
   "metadata": {},
   "source": [
    "There were three fields that had the greatest impact on robotics: control theory, cybernetics and artificial intelligence. "
   ]
  },
  {
   "cell_type": "markdown",
   "metadata": {},
   "source": [
    "## Control theory"
   ]
  },
  {
   "cell_type": "markdown",
   "metadata": {},
   "source": [
    "Control theory is the study of mathematical features that govern autonomous control systems. It is one of the foundations of mechanical engineering and dates back to ancient times. "
   ]
  },
  {
   "cell_type": "markdown",
   "metadata": {},
   "source": [
    "## Cybernetics"
   ]
  },
  {
   "cell_type": "markdown",
   "metadata": {},
   "source": [
    "Cybernetics does not exist under that name anymore, but in the past it combined control theory with biological systems. The aim was to find similarities between artificial and biological control systems and build machines that would show animal-like behavior. The machines could be called biomimetic, because of the type of behavior they were modeled after. The key aspect of cybernetics is in the coupling, combination and interaction between artificial and biological systems and their environment."
   ]
  },
  {
   "cell_type": "markdown",
   "metadata": {},
   "source": [
    "### The first robots given our definition"
   ]
  },
  {
   "cell_type": "markdown",
   "metadata": {},
   "source": [
    "With the definition in mind, the first robots ever created were Tortoises - devices created by William Grey Walter in late 1940s that were supposed to look like tortoises and use reactive control.\n",
    "\n",
    "Grey Walter's Tortoises also provide one of the first examples of what we call now artificial life - a field related to robotics, but one that focuses on systems that exist in the computer, not the real world. "
   ]
  },
  {
   "cell_type": "markdown",
   "metadata": {},
   "source": [
    "### Reactive control in cybernetic machines"
   ]
  },
  {
   "cell_type": "markdown",
   "metadata": {},
   "source": [
    "Most of the machines were using reactive control - they operated in their environment by responding to specific signals from their environment. "
   ]
  },
  {
   "cell_type": "markdown",
   "metadata": {},
   "source": [
    "### Emergent behavior"
   ]
  },
  {
   "cell_type": "markdown",
   "metadata": {},
   "source": [
    "Sometimes the behavior of these devices was unexpected, not explicitly programmed - they showed emergent behavior. "
   ]
  },
  {
   "cell_type": "markdown",
   "metadata": {},
   "source": [
    "## Braitenberg's vehicles"
   ]
  },
  {
   "cell_type": "markdown",
   "metadata": {},
   "source": [
    "Valentino Braitenberg was an Italian nerusocientist and cybernetist. In 1984, he released a book called \"Vehicles, Experiments in Synthetic Psychology\" in which he proposed designs for what he called \"vehicles\" - cybernetic devices that used reactive control. \n",
    "These devices began with a single light sensor, a single motor and an analog electronic circuit to connect them. They grew in complexity, more sensors and motors, with more complex connections between them."
   ]
  },
  {
   "cell_type": "markdown",
   "metadata": {},
   "source": [
    "### An example of a Braitenberg's vehicle"
   ]
  },
  {
   "cell_type": "markdown",
   "metadata": {},
   "source": [
    "To provide an example, let's imagine a small vehicle with 2 wheels in the back and 1 in the front to steer.\n",
    "The vehicle has a single light sensor on its front. \n",
    "When the vehicle's sensor detects a light source, there are 2 possible reactions: \n",
    "- photophilic - the brighter the source, the stronger the motors will work \n",
    "- photophobic - the brighter the source, the weaker the motors will work\n",
    "\n",
    "These 2 types are the result of what we call excitatory and inhibitory connections (for photophilic and photophobic respectively).\n",
    "The inspiration for them comes from biological neurons, which can show similar behavior."
   ]
  },
  {
   "cell_type": "code",
   "execution_count": null,
   "metadata": {},
   "outputs": [],
   "source": []
  }
 ],
 "metadata": {
  "kernelspec": {
   "display_name": "Python 3.9.4 64-bit ('py39': conda)",
   "language": "python",
   "name": "python394jvsc74a57bd0c16f305aa7fcc75178d91a632cf4fce3aa7f89ea13d4df144cdf9cb39a34a862"
  },
  "language_info": {
   "codemirror_mode": {
    "name": "ipython",
    "version": 3
   },
   "file_extension": ".py",
   "mimetype": "text/x-python",
   "name": "python",
   "nbconvert_exporter": "python",
   "pygments_lexer": "ipython3",
   "version": "3.9.4"
  }
 },
 "nbformat": 4,
 "nbformat_minor": 4
}
